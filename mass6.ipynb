{
 "cells": [
  {
   "cell_type": "code",
   "execution_count": 1,
   "metadata": {},
   "outputs": [],
   "source": [
    "import os\n",
    "import pandas\n",
    "import numpy\n",
    "import math\n",
    "import matplotlib\n",
    "import seaborn\n",
    "from sklearn.model_selection import train_test_split\n",
    "from sklearn.metrics import confusion_matrix\n",
    "from sklearn.metrics import accuracy_score\n",
    "from sklearn.metrics import jaccard_score\n",
    "from sklearn.ensemble import AdaBoostClassifier\n",
    "from sklearn.linear_model import RidgeClassifierCV\n",
    "from sklearn.feature_selection import RFECV\n",
    "from sklearn.feature_selection import SelectFromModel\n",
    "from sklearn.pipeline import Pipeline\n",
    "from sklearn.preprocessing import RobustScaler\n",
    "from sklearn.model_selection import GridSearchCV\n",
    "from sklearn.utils import resample\n",
    "from sklearn.experimental import enable_iterative_imputer\n",
    "from sklearn.impute import IterativeImputer\n",
    "from sklearn.preprocessing import OneHotEncoder\n",
    "from sklearn.preprocessing import OrdinalEncoder"
   ]
  },
  {
   "cell_type": "code",
   "execution_count": 2,
   "metadata": {},
   "outputs": [],
   "source": [
    "# Settings\n",
    "filename = \"MA_Public_Schools_2017.csv\"\n",
    "start_year = 2010\n",
    "stop_year = 2017\n",
    "y_column_name = \"% Graduated\"\n",
    "y_groups = 2\n",
    "ignore_columns = [\n",
    "    \"High School Graduates (#)\",\n",
    "    \"% Dropped Out\",\n",
    "    \"% Still in School\",\n",
    "    \"School Code\",\n",
    "    \"School Name\",\n",
    "    \"Contact Name\",\n",
    "    \"Address 1\",\n",
    "    \"Address 2\",\n",
    "    \"Town\",\n",
    "    \"State\",\n",
    "    \"Zip\",\n",
    "    \"Phone\",\n",
    "    \"Fax\",\n",
    "    \"District Name\",\n",
    "    \"% Still in School\",\n",
    "    \"% Non-Grad Completers\",\n",
    "    \"% GED\",\n",
    "    \"% Dropped Out\",\n",
    "    \"% Permanently Excluded\",\n",
    "    \"High School Graduates (#)\",\n",
    "    \"Attending Coll./Univ. (#)\",\n",
    "    \"Accountability and Assistance Description\",\n",
    "    \"District_Accountability and Assistance Description\",\n",
    "]\n",
    "one_hot_encode = [\"School Type\", \"Function\"]\n",
    "floatify_columns = [\"AP_Test Takers\", \"AP_Tests Taken\"]\n",
    "levelize_columns = [\"Accountability and Assistance Level\", \"District_Accountability and Assistance Level\"]\n",
    "gradify_columns = [\"Grade\"]"
   ]
  },
  {
   "cell_type": "code",
   "execution_count": 3,
   "metadata": {},
   "outputs": [],
   "source": [
    "# Load the data\n",
    "df = pandas.read_csv(filename)"
   ]
  },
  {
   "cell_type": "code",
   "execution_count": 4,
   "metadata": {},
   "outputs": [
    {
     "data": {
      "text/html": [
       "<div>\n",
       "<style scoped>\n",
       "    .dataframe tbody tr th:only-of-type {\n",
       "        vertical-align: middle;\n",
       "    }\n",
       "\n",
       "    .dataframe tbody tr th {\n",
       "        vertical-align: top;\n",
       "    }\n",
       "\n",
       "    .dataframe thead th {\n",
       "        text-align: right;\n",
       "    }\n",
       "</style>\n",
       "<table border=\"1\" class=\"dataframe\">\n",
       "  <thead>\n",
       "    <tr style=\"text-align: right;\">\n",
       "      <th></th>\n",
       "      <th>School Code</th>\n",
       "      <th>School Name</th>\n",
       "      <th>School Type</th>\n",
       "      <th>Function</th>\n",
       "      <th>Contact Name</th>\n",
       "      <th>Address 1</th>\n",
       "      <th>Address 2</th>\n",
       "      <th>Town</th>\n",
       "      <th>State</th>\n",
       "      <th>Zip</th>\n",
       "      <th>...</th>\n",
       "      <th>MCAS_10thGrade_English_Incl. in SGP(#)</th>\n",
       "      <th>Accountability and Assistance Level</th>\n",
       "      <th>Accountability and Assistance Description</th>\n",
       "      <th>School Accountability Percentile (1-99)</th>\n",
       "      <th>Progress and Performance Index (PPI) - All Students</th>\n",
       "      <th>Progress and Performance Index (PPI) - High Needs Students</th>\n",
       "      <th>District_Accountability and Assistance Level</th>\n",
       "      <th>District_Accountability and Assistance Description</th>\n",
       "      <th>District_Progress and Performance Index (PPI) - All Students</th>\n",
       "      <th>District_Progress and Performance Index (PPI) - High Needs Students</th>\n",
       "    </tr>\n",
       "  </thead>\n",
       "  <tbody>\n",
       "    <tr>\n",
       "      <td>0</td>\n",
       "      <td>10505</td>\n",
       "      <td>Abington High</td>\n",
       "      <td>Public School</td>\n",
       "      <td>Principal</td>\n",
       "      <td>Teresa Sullivan-Cruz</td>\n",
       "      <td>201 Gliniewicz Way</td>\n",
       "      <td>NaN</td>\n",
       "      <td>Abington</td>\n",
       "      <td>MA</td>\n",
       "      <td>2351</td>\n",
       "      <td>...</td>\n",
       "      <td>111.0</td>\n",
       "      <td>Level 1</td>\n",
       "      <td>Meeting gap narrowing goals</td>\n",
       "      <td>42.0</td>\n",
       "      <td>76.0</td>\n",
       "      <td>75.0</td>\n",
       "      <td>Level 3</td>\n",
       "      <td>One or more schools in the district classified...</td>\n",
       "      <td>63.0</td>\n",
       "      <td>60.0</td>\n",
       "    </tr>\n",
       "    <tr>\n",
       "      <td>1</td>\n",
       "      <td>10003</td>\n",
       "      <td>Beaver Brook Elementary School</td>\n",
       "      <td>Public School</td>\n",
       "      <td>Principal</td>\n",
       "      <td>Catherine Zinni</td>\n",
       "      <td>1 Ralph Hamlin Lane</td>\n",
       "      <td>NaN</td>\n",
       "      <td>Abington</td>\n",
       "      <td>MA</td>\n",
       "      <td>2351</td>\n",
       "      <td>...</td>\n",
       "      <td>NaN</td>\n",
       "      <td>Level 3</td>\n",
       "      <td>Among lowest performing 20% of subgroups</td>\n",
       "      <td>34.0</td>\n",
       "      <td>69.0</td>\n",
       "      <td>73.0</td>\n",
       "      <td>Level 3</td>\n",
       "      <td>One or more schools in the district classified...</td>\n",
       "      <td>63.0</td>\n",
       "      <td>60.0</td>\n",
       "    </tr>\n",
       "    <tr>\n",
       "      <td>2</td>\n",
       "      <td>10002</td>\n",
       "      <td>Center Elementary School</td>\n",
       "      <td>Public School</td>\n",
       "      <td>Principal</td>\n",
       "      <td>Lora Monachino</td>\n",
       "      <td>201 Gliniewicz Way</td>\n",
       "      <td>NaN</td>\n",
       "      <td>Abington</td>\n",
       "      <td>MA</td>\n",
       "      <td>2351</td>\n",
       "      <td>...</td>\n",
       "      <td>NaN</td>\n",
       "      <td>Insufficient data</td>\n",
       "      <td>NaN</td>\n",
       "      <td>NaN</td>\n",
       "      <td>NaN</td>\n",
       "      <td>NaN</td>\n",
       "      <td>Level 3</td>\n",
       "      <td>One or more schools in the district classified...</td>\n",
       "      <td>63.0</td>\n",
       "      <td>60.0</td>\n",
       "    </tr>\n",
       "    <tr>\n",
       "      <td>3</td>\n",
       "      <td>10405</td>\n",
       "      <td>Frolio Middle School</td>\n",
       "      <td>Public School</td>\n",
       "      <td>Principal</td>\n",
       "      <td>Matthew MacCurtain</td>\n",
       "      <td>201 Gliniewicz Way</td>\n",
       "      <td>NaN</td>\n",
       "      <td>Abington</td>\n",
       "      <td>MA</td>\n",
       "      <td>2351</td>\n",
       "      <td>...</td>\n",
       "      <td>NaN</td>\n",
       "      <td>Level 2</td>\n",
       "      <td>Not meeting gap narrowing goals</td>\n",
       "      <td>40.0</td>\n",
       "      <td>63.0</td>\n",
       "      <td>64.0</td>\n",
       "      <td>Level 3</td>\n",
       "      <td>One or more schools in the district classified...</td>\n",
       "      <td>63.0</td>\n",
       "      <td>60.0</td>\n",
       "    </tr>\n",
       "    <tr>\n",
       "      <td>4</td>\n",
       "      <td>10015</td>\n",
       "      <td>Woodsdale Elementary School</td>\n",
       "      <td>Public School</td>\n",
       "      <td>Principal</td>\n",
       "      <td>Jonathan Hawes</td>\n",
       "      <td>128 Chestnut Street</td>\n",
       "      <td>NaN</td>\n",
       "      <td>Abington</td>\n",
       "      <td>MA</td>\n",
       "      <td>2351</td>\n",
       "      <td>...</td>\n",
       "      <td>NaN</td>\n",
       "      <td>Level 2</td>\n",
       "      <td>Not meeting gap narrowing goals</td>\n",
       "      <td>52.0</td>\n",
       "      <td>65.0</td>\n",
       "      <td>67.0</td>\n",
       "      <td>Level 3</td>\n",
       "      <td>One or more schools in the district classified...</td>\n",
       "      <td>63.0</td>\n",
       "      <td>60.0</td>\n",
       "    </tr>\n",
       "    <tr>\n",
       "      <td>...</td>\n",
       "      <td>...</td>\n",
       "      <td>...</td>\n",
       "      <td>...</td>\n",
       "      <td>...</td>\n",
       "      <td>...</td>\n",
       "      <td>...</td>\n",
       "      <td>...</td>\n",
       "      <td>...</td>\n",
       "      <td>...</td>\n",
       "      <td>...</td>\n",
       "      <td>...</td>\n",
       "      <td>...</td>\n",
       "      <td>...</td>\n",
       "      <td>...</td>\n",
       "      <td>...</td>\n",
       "      <td>...</td>\n",
       "      <td>...</td>\n",
       "      <td>...</td>\n",
       "      <td>...</td>\n",
       "      <td>...</td>\n",
       "      <td>...</td>\n",
       "    </tr>\n",
       "    <tr>\n",
       "      <td>1856</td>\n",
       "      <td>35060505</td>\n",
       "      <td>Pioneer Charter School of Science II (PCSS-II)</td>\n",
       "      <td>Charter School</td>\n",
       "      <td>Principal</td>\n",
       "      <td>Vahit Sevinc</td>\n",
       "      <td>97 Main Street</td>\n",
       "      <td>NaN</td>\n",
       "      <td>Saugus</td>\n",
       "      <td>MA</td>\n",
       "      <td>1906</td>\n",
       "      <td>...</td>\n",
       "      <td>30.0</td>\n",
       "      <td>Insufficient data</td>\n",
       "      <td>NaN</td>\n",
       "      <td>NaN</td>\n",
       "      <td>NaN</td>\n",
       "      <td>NaN</td>\n",
       "      <td>Insufficient data</td>\n",
       "      <td>NaN</td>\n",
       "      <td>NaN</td>\n",
       "      <td>NaN</td>\n",
       "    </tr>\n",
       "    <tr>\n",
       "      <td>1857</td>\n",
       "      <td>35100205</td>\n",
       "      <td>Springfield Preparatory Charter School</td>\n",
       "      <td>Charter School</td>\n",
       "      <td>Principal</td>\n",
       "      <td>Bill Spirer</td>\n",
       "      <td>370 Pine St.</td>\n",
       "      <td>NaN</td>\n",
       "      <td>Springfield</td>\n",
       "      <td>MA</td>\n",
       "      <td>1105</td>\n",
       "      <td>...</td>\n",
       "      <td>NaN</td>\n",
       "      <td>Insufficient data</td>\n",
       "      <td>NaN</td>\n",
       "      <td>NaN</td>\n",
       "      <td>NaN</td>\n",
       "      <td>NaN</td>\n",
       "      <td>Insufficient data</td>\n",
       "      <td>NaN</td>\n",
       "      <td>NaN</td>\n",
       "      <td>NaN</td>\n",
       "    </tr>\n",
       "    <tr>\n",
       "      <td>1858</td>\n",
       "      <td>39020900</td>\n",
       "      <td>TEC Connections Academy Commonwealth Virtual S...</td>\n",
       "      <td>Public School</td>\n",
       "      <td>Principal</td>\n",
       "      <td>Adam Goldberg</td>\n",
       "      <td>141 Mansion Drive</td>\n",
       "      <td>NaN</td>\n",
       "      <td>East Walpole</td>\n",
       "      <td>MA</td>\n",
       "      <td>2032</td>\n",
       "      <td>...</td>\n",
       "      <td>28.0</td>\n",
       "      <td>Level 3</td>\n",
       "      <td>Very low assessment participation (Less than 90%)</td>\n",
       "      <td>NaN</td>\n",
       "      <td>NaN</td>\n",
       "      <td>NaN</td>\n",
       "      <td>Level 3</td>\n",
       "      <td>Very low assessment participation (Less than 90%)</td>\n",
       "      <td>NaN</td>\n",
       "      <td>NaN</td>\n",
       "    </tr>\n",
       "    <tr>\n",
       "      <td>1859</td>\n",
       "      <td>35050405</td>\n",
       "      <td>UP Academy Charter School of Dorchester</td>\n",
       "      <td>Charter School</td>\n",
       "      <td>Principal</td>\n",
       "      <td>Jabari Peddie</td>\n",
       "      <td>35 Westville Street</td>\n",
       "      <td>NaN</td>\n",
       "      <td>Boston</td>\n",
       "      <td>MA</td>\n",
       "      <td>2124</td>\n",
       "      <td>...</td>\n",
       "      <td>NaN</td>\n",
       "      <td>Level 1</td>\n",
       "      <td>Meeting gap narrowing goals</td>\n",
       "      <td>35.0</td>\n",
       "      <td>92.0</td>\n",
       "      <td>98.0</td>\n",
       "      <td>Level 1</td>\n",
       "      <td>Meeting gap narrowing goals</td>\n",
       "      <td>92.0</td>\n",
       "      <td>98.0</td>\n",
       "    </tr>\n",
       "    <tr>\n",
       "      <td>1860</td>\n",
       "      <td>35120305</td>\n",
       "      <td>UP Academy Charter School of Springfield</td>\n",
       "      <td>Charter School</td>\n",
       "      <td>Principal</td>\n",
       "      <td>Scott Given</td>\n",
       "      <td>90 Canal Street Suite 610</td>\n",
       "      <td>NaN</td>\n",
       "      <td>Boston</td>\n",
       "      <td>MA</td>\n",
       "      <td>2114</td>\n",
       "      <td>...</td>\n",
       "      <td>NaN</td>\n",
       "      <td>NaN</td>\n",
       "      <td>NaN</td>\n",
       "      <td>NaN</td>\n",
       "      <td>NaN</td>\n",
       "      <td>NaN</td>\n",
       "      <td>NaN</td>\n",
       "      <td>NaN</td>\n",
       "      <td>NaN</td>\n",
       "      <td>NaN</td>\n",
       "    </tr>\n",
       "  </tbody>\n",
       "</table>\n",
       "<p>1861 rows × 302 columns</p>\n",
       "</div>"
      ],
      "text/plain": [
       "      School Code                                        School Name  \\\n",
       "0           10505                                      Abington High   \n",
       "1           10003                     Beaver Brook Elementary School   \n",
       "2           10002                           Center Elementary School   \n",
       "3           10405                               Frolio Middle School   \n",
       "4           10015                        Woodsdale Elementary School   \n",
       "...           ...                                                ...   \n",
       "1856     35060505     Pioneer Charter School of Science II (PCSS-II)   \n",
       "1857     35100205             Springfield Preparatory Charter School   \n",
       "1858     39020900  TEC Connections Academy Commonwealth Virtual S...   \n",
       "1859     35050405            UP Academy Charter School of Dorchester   \n",
       "1860     35120305           UP Academy Charter School of Springfield   \n",
       "\n",
       "         School Type   Function          Contact Name  \\\n",
       "0      Public School  Principal  Teresa Sullivan-Cruz   \n",
       "1      Public School  Principal       Catherine Zinni   \n",
       "2      Public School  Principal        Lora Monachino   \n",
       "3      Public School  Principal    Matthew MacCurtain   \n",
       "4      Public School  Principal        Jonathan Hawes   \n",
       "...              ...        ...                   ...   \n",
       "1856  Charter School  Principal          Vahit Sevinc   \n",
       "1857  Charter School  Principal           Bill Spirer   \n",
       "1858   Public School  Principal         Adam Goldberg   \n",
       "1859  Charter School  Principal         Jabari Peddie   \n",
       "1860  Charter School  Principal           Scott Given   \n",
       "\n",
       "                      Address 1 Address 2          Town State   Zip  ...  \\\n",
       "0            201 Gliniewicz Way       NaN      Abington    MA  2351  ...   \n",
       "1           1 Ralph Hamlin Lane       NaN      Abington    MA  2351  ...   \n",
       "2            201 Gliniewicz Way       NaN      Abington    MA  2351  ...   \n",
       "3            201 Gliniewicz Way       NaN      Abington    MA  2351  ...   \n",
       "4           128 Chestnut Street       NaN      Abington    MA  2351  ...   \n",
       "...                         ...       ...           ...   ...   ...  ...   \n",
       "1856             97 Main Street       NaN        Saugus    MA  1906  ...   \n",
       "1857               370 Pine St.       NaN   Springfield    MA  1105  ...   \n",
       "1858          141 Mansion Drive       NaN  East Walpole    MA  2032  ...   \n",
       "1859        35 Westville Street       NaN        Boston    MA  2124  ...   \n",
       "1860  90 Canal Street Suite 610       NaN        Boston    MA  2114  ...   \n",
       "\n",
       "     MCAS_10thGrade_English_Incl. in SGP(#)  \\\n",
       "0                                     111.0   \n",
       "1                                       NaN   \n",
       "2                                       NaN   \n",
       "3                                       NaN   \n",
       "4                                       NaN   \n",
       "...                                     ...   \n",
       "1856                                   30.0   \n",
       "1857                                    NaN   \n",
       "1858                                   28.0   \n",
       "1859                                    NaN   \n",
       "1860                                    NaN   \n",
       "\n",
       "     Accountability and Assistance Level  \\\n",
       "0                                Level 1   \n",
       "1                                Level 3   \n",
       "2                      Insufficient data   \n",
       "3                                Level 2   \n",
       "4                                Level 2   \n",
       "...                                  ...   \n",
       "1856                   Insufficient data   \n",
       "1857                   Insufficient data   \n",
       "1858                             Level 3   \n",
       "1859                             Level 1   \n",
       "1860                                 NaN   \n",
       "\n",
       "              Accountability and Assistance Description  \\\n",
       "0                           Meeting gap narrowing goals   \n",
       "1              Among lowest performing 20% of subgroups   \n",
       "2                                                   NaN   \n",
       "3                       Not meeting gap narrowing goals   \n",
       "4                       Not meeting gap narrowing goals   \n",
       "...                                                 ...   \n",
       "1856                                                NaN   \n",
       "1857                                                NaN   \n",
       "1858  Very low assessment participation (Less than 90%)   \n",
       "1859                        Meeting gap narrowing goals   \n",
       "1860                                                NaN   \n",
       "\n",
       "     School Accountability Percentile (1-99)  \\\n",
       "0                                       42.0   \n",
       "1                                       34.0   \n",
       "2                                        NaN   \n",
       "3                                       40.0   \n",
       "4                                       52.0   \n",
       "...                                      ...   \n",
       "1856                                     NaN   \n",
       "1857                                     NaN   \n",
       "1858                                     NaN   \n",
       "1859                                    35.0   \n",
       "1860                                     NaN   \n",
       "\n",
       "      Progress and Performance Index (PPI) - All Students  \\\n",
       "0                                                  76.0     \n",
       "1                                                  69.0     \n",
       "2                                                   NaN     \n",
       "3                                                  63.0     \n",
       "4                                                  65.0     \n",
       "...                                                 ...     \n",
       "1856                                                NaN     \n",
       "1857                                                NaN     \n",
       "1858                                                NaN     \n",
       "1859                                               92.0     \n",
       "1860                                                NaN     \n",
       "\n",
       "      Progress and Performance Index (PPI) - High Needs Students  \\\n",
       "0                                                  75.0            \n",
       "1                                                  73.0            \n",
       "2                                                   NaN            \n",
       "3                                                  64.0            \n",
       "4                                                  67.0            \n",
       "...                                                 ...            \n",
       "1856                                                NaN            \n",
       "1857                                                NaN            \n",
       "1858                                                NaN            \n",
       "1859                                               98.0            \n",
       "1860                                                NaN            \n",
       "\n",
       "      District_Accountability and Assistance Level  \\\n",
       "0                                          Level 3   \n",
       "1                                          Level 3   \n",
       "2                                          Level 3   \n",
       "3                                          Level 3   \n",
       "4                                          Level 3   \n",
       "...                                            ...   \n",
       "1856                             Insufficient data   \n",
       "1857                             Insufficient data   \n",
       "1858                                       Level 3   \n",
       "1859                                       Level 1   \n",
       "1860                                           NaN   \n",
       "\n",
       "      District_Accountability and Assistance Description  \\\n",
       "0     One or more schools in the district classified...    \n",
       "1     One or more schools in the district classified...    \n",
       "2     One or more schools in the district classified...    \n",
       "3     One or more schools in the district classified...    \n",
       "4     One or more schools in the district classified...    \n",
       "...                                                 ...    \n",
       "1856                                                NaN    \n",
       "1857                                                NaN    \n",
       "1858  Very low assessment participation (Less than 90%)    \n",
       "1859                        Meeting gap narrowing goals    \n",
       "1860                                                NaN    \n",
       "\n",
       "      District_Progress and Performance Index (PPI) - All Students  \\\n",
       "0                                                  63.0              \n",
       "1                                                  63.0              \n",
       "2                                                  63.0              \n",
       "3                                                  63.0              \n",
       "4                                                  63.0              \n",
       "...                                                 ...              \n",
       "1856                                                NaN              \n",
       "1857                                                NaN              \n",
       "1858                                                NaN              \n",
       "1859                                               92.0              \n",
       "1860                                                NaN              \n",
       "\n",
       "      District_Progress and Performance Index (PPI) - High Needs Students  \n",
       "0                                                  60.0                    \n",
       "1                                                  60.0                    \n",
       "2                                                  60.0                    \n",
       "3                                                  60.0                    \n",
       "4                                                  60.0                    \n",
       "...                                                 ...                    \n",
       "1856                                                NaN                    \n",
       "1857                                                NaN                    \n",
       "1858                                                NaN                    \n",
       "1859                                               98.0                    \n",
       "1860                                                NaN                    \n",
       "\n",
       "[1861 rows x 302 columns]"
      ]
     },
     "execution_count": 4,
     "metadata": {},
     "output_type": "execute_result"
    }
   ],
   "source": [
    "df"
   ]
  },
  {
   "cell_type": "code",
   "execution_count": 5,
   "metadata": {},
   "outputs": [
    {
     "name": "stdout",
     "output_type": "stream",
     "text": [
      "School Code\n",
      "School Name\n",
      "School Type\n",
      "Function\n",
      "Contact Name\n",
      "Address 1\n",
      "Address 2\n",
      "Town\n",
      "State\n",
      "Zip\n",
      "Phone\n",
      "Fax\n",
      "Grade\n",
      "District Name\n",
      "District Code\n",
      "PK_Enrollment\n",
      "K_Enrollment\n",
      "1_Enrollment\n",
      "2_Enrollment\n",
      "3_Enrollment\n",
      "4_Enrollment\n",
      "5_Enrollment\n",
      "6_Enrollment\n",
      "7_Enrollment\n",
      "8_Enrollment\n",
      "9_Enrollment\n",
      "10_Enrollment\n",
      "11_Enrollment\n",
      "12_Enrollment\n",
      "SP_Enrollment\n",
      "TOTAL_Enrollment\n",
      "First Language Not English\n",
      "% First Language Not English\n",
      "English Language Learner\n",
      "% English Language Learner\n",
      "Students With Disabilities\n",
      "% Students With Disabilities\n",
      "High Needs\n",
      "% High Needs\n",
      "Economically Disadvantaged\n",
      "% Economically Disadvantaged\n",
      "% African American\n",
      "% Asian\n",
      "% Hispanic\n",
      "% White\n",
      "% Native American\n",
      "% Native Hawaiian, Pacific Islander\n",
      "% Multi-Race, Non-Hispanic\n",
      "% Males\n",
      "% Females\n",
      "Total # of Classes\n",
      "Average Class Size\n",
      "Number of Students\n",
      "Salary Totals\n",
      "Average Salary\n",
      "FTE Count\n",
      "In-District Expenditures\n",
      "Total In-district FTEs\n",
      "Average In-District Expenditures per Pupil\n",
      "Total Expenditures\n",
      "Total Pupil FTEs\n",
      "Average Expenditures per Pupil\n",
      "# in Cohort\n",
      "% Graduated\n",
      "% Still in School\n",
      "% Non-Grad Completers\n",
      "% GED\n",
      "% Dropped Out\n",
      "% Permanently Excluded\n",
      "High School Graduates (#)\n",
      "Attending Coll./Univ. (#)\n",
      "% Attending College\n",
      "% Private Two-Year\n",
      "% Private Four-Year\n",
      "% Public Two-Year\n",
      "% Public Four-Year\n",
      "% MA Community College\n",
      "% MA State University\n",
      "% UMass\n",
      "AP_Test Takers\n",
      "AP_Tests Taken\n",
      "AP_One Test\n",
      "AP_Two Tests\n",
      "AP_Three Tests\n",
      "AP_Four Tests\n",
      "AP_Five or More Tests\n",
      "AP_Score=1\n",
      "AP_Score=2\n",
      "AP_Score=3\n",
      "AP_Score=4\n",
      "AP_Score=5\n",
      "% AP_Score 1-2\n",
      "% AP_Score 3-5\n",
      "SAT_Tests Taken\n",
      "Average SAT_Reading\n",
      "Average SAT_Writing\n",
      "Average SAT_Math\n",
      "MCAS_3rdGrade_Math_P+A #\n",
      "% MCAS_3rdGrade_Math_P+A\n",
      "MCAS_3rdGrade_Math_A #\n",
      "% MCAS_3rdGrade_Math_A\n",
      "MCAS_3rdGrade_Math_P #\n",
      "% MCAS_3rdGrade_Math_P\n",
      "MCAS_3rdGrade_Math_NI #\n",
      "% MCAS_3rdGrade_Math_NI\n",
      "MCAS_3rdGrade_Math_W/F #\n",
      "% MCAS_3rdGrade_Math_W/F\n",
      "MCAS_3rdGrade_Math_Stud. Incl. #\n",
      "MCAS_3rdGrade_Math_CPI\n",
      "MCAS_3rdGrade_Math_SGP\n",
      "MCAS_3rdGrade_Math_Incl. in SGP(#)\n",
      "MCAS_4thGrade_Math_P+A #\n",
      "% MCAS_4thGrade_Math_P+A\n",
      "MCAS_4thGrade_Math_A #\n",
      "% MCAS_4thGrade_Math_A\n",
      "MCAS_4thGrade_Math_P #\n",
      "% MCAS_4thGrade_Math_P\n",
      "MCAS_4thGrade_Math_NI #\n",
      "% MCAS_4thGrade_Math_NI\n",
      "MCAS_4thGrade_Math_W/F #\n",
      "% MCAS_4thGrade_Math_W/F\n",
      "MCAS_4thGrade_Math_Stud. Incl. #\n",
      "MCAS_4thGrade_Math_CPI\n",
      "MCAS_4thGrade_Math_SGP\n",
      "MCAS_4thGrade_Math_Incl. in SGP(#)\n",
      "MCAS_5thGrade_Math_P+A #\n",
      "% MCAS_5thGrade_Math_P+A\n",
      "MCAS_5thGrade_Math_A #\n",
      "% MCAS_5thGrade_Math_A\n",
      "MCAS_5thGrade_Math_P #\n",
      "% MCAS_5thGrade_Math_P\n",
      "MCAS_5thGrade_Math_NI #\n",
      "% MCAS_5thGrade_Math_NI\n",
      "MCAS_5thGrade_Math_W/F #\n",
      "% MCAS_5thGrade_Math_W/F\n",
      "MCAS_5thGrade_Math_Stud. Incl. #\n",
      "MCAS_5thGrade_Math_CPI\n",
      "MCAS_5thGrade_Math_SGP\n",
      "MCAS_5thGrade_Math_Incl. in SGP(#)\n",
      "MCAS_6thGrade_Math_P+A #\n",
      "% MCAS_6thGrade_Math_P+A\n",
      "MCAS_6thGrade_Math_A #\n",
      "% MCAS_6thGrade_Math_A\n",
      "MCAS_6thGrade_Math_P #\n",
      "% MCAS_6thGrade_Math_P\n",
      "MCAS_6thGrade_Math_NI #\n",
      "% MCAS_6thGrade_Math_NI\n",
      "MCAS_6thGrade_Math_W/F #\n",
      "% MCAS_6thGrade_Math_W/F\n",
      "MCAS_6thGrade_Math_Stud. Incl. #\n",
      "MCAS_6thGrade_Math_CPI\n",
      "MCAS_6thGrade_Math_SGP\n",
      "MCAS_6thGrade_Math_Incl. in SGP(#)\n",
      "MCAS_7thGrade_Math_P+A #\n",
      "% MCAS_7thGrade_Math_P+A\n",
      "MCAS_7thGrade_Math_A #\n",
      "% MCAS_7thGrade_Math_A\n",
      "MCAS_7thGrade_Math_P #\n",
      "% MCAS_7thGrade_Math_P\n",
      "MCAS_7thGrade_Math_NI #\n",
      "% MCAS_7thGrade_Math_NI\n",
      "MCAS_7thGrade_Math_W/F #\n",
      "% MCAS_7thGrade_Math_W/F\n",
      "MCAS_7thGrade_Math_Stud. Incl. #\n",
      "MCAS_7thGrade_Math_CPI\n",
      "MCAS_7thGrade_Math_SGP\n",
      "MCAS_7thGrade_Math_Incl. in SGP(#)\n",
      "MCAS_8thGrade_Math_P+A #\n",
      "% MCAS_8thGrade_Math_P+A\n",
      "MCAS_8thGrade_Math_A #\n",
      "% MCAS_8thGrade_Math_A\n",
      "MCAS_8thGrade_Math_P #\n",
      "% MCAS_8thGrade_Math_P\n",
      "MCAS_8thGrade_Math_NI #\n",
      "% MCAS_8thGrade_Math_NI\n",
      "MCAS_8thGrade_Math_W/F #\n",
      "% MCAS_8thGrade_Math_W/F\n",
      "MCAS_8thGrade_Math_Stud. Incl. #\n",
      "MCAS_8thGrade_Math_CPI\n",
      "MCAS_8thGrade_Math_SGP\n",
      "MCAS_8thGrade_Math_Incl. in SGP(#)\n",
      "MCAS_10thGrade_Math_P+A #\n",
      "% MCAS_10thGrade_Math_P+A\n",
      "MCAS_10thGrade_Math_A #\n",
      "% MCAS_10thGrade_Math_A\n",
      "MCAS_10thGrade_Math_P #\n",
      "% MCAS_10thGrade_Math_P\n",
      "MCAS_10thGrade_Math_NI #\n",
      "% MCAS_10thGrade_Math_NI\n",
      "MCAS_10thGrade_Math_W/F #\n",
      "% MCAS_10thGrade_Math_W/F\n",
      "MCAS_10thGrade_Math_Stud. Incl. #\n",
      "MCAS_10thGrade_Math_CPI\n",
      "MCAS_10thGrade_Math_SGP\n",
      "MCAS_10thGrade_Math_Incl. in SGP(#)\n",
      "MCAS_3rdGrade_English_P+A #\n",
      "% MCAS_3rdGrade_English_P+A\n",
      "MCAS_3rdGrade_English_A #\n",
      "% MCAS_3rdGrade_English_A\n",
      "MCAS_3rdGrade_English_P #\n",
      "% MCAS_3rdGrade_English_P\n",
      "MCAS_3rdGrade_English_NI #\n",
      "% MCAS_3rdGrade_English_NI\n",
      "MCAS_3rdGrade_English_W/F #\n",
      "% MCAS_3rdGrade_English_W/F\n",
      "MCAS_3rdGrade_English_Stud. Incl. #\n",
      "MCAS_3rdGrade_English_CPI\n",
      "MCAS_3rdGrade_English_SGP\n",
      "MCAS_3rdGrade_English_Incl. in SGP(#)\n",
      "MCAS_4thGrade_English_P+A #\n",
      "% MCAS_4thGrade_English_P+A\n",
      "MCAS_4thGrade_English_A #\n",
      "% MCAS_4thGrade_English_A\n",
      "MCAS_4thGrade_English_P #\n",
      "% MCAS_4thGrade_English_P\n",
      "MCAS_4thGrade_English_NI #\n",
      "% MCAS_4thGrade_English_NI\n",
      "MCAS_4thGrade_English_W/F #\n",
      "% MCAS_4thGrade_English_W/F\n",
      "MCAS_4thGrade_English_Stud. Incl. #\n",
      "MCAS_4thGrade_English_CPI\n",
      "MCAS_4thGrade_English_SGP\n",
      "MCAS_4thGrade_English_Incl. in SGP(#)\n",
      "MCAS_5thGrade_English_P+A #\n",
      "% MCAS_5thGrade_English_P+A\n",
      "MCAS_5thGrade_English_A #\n",
      "% MCAS_5thGrade_English_A\n",
      "MCAS_5thGrade_English_P #\n",
      "% MCAS_5thGrade_English_P\n",
      "MCAS_5thGrade_English_NI #\n",
      "% MCAS_5thGrade_English_NI\n",
      "MCAS_5thGrade_English_W/F #\n",
      "% MCAS_5thGrade_English_W/F\n",
      "MCAS_5thGrade_English_Stud. Incl. #\n",
      "MCAS_5thGrade_English_CPI\n",
      "MCAS_5thGrade_English_SGP\n",
      "MCAS_5thGrade_English_Incl. in SGP(#)\n",
      "MCAS_6thGrade_English_P+A #\n",
      "% MCAS_6thGrade_English_P+A\n",
      "MCAS_6thGrade_English_A #\n",
      "% MCAS_6thGrade_English_A\n",
      "MCAS_6thGrade_English_P #\n",
      "% MCAS_6thGrade_English_P\n",
      "MCAS_6thGrade_English_NI #\n",
      "% MCAS_6thGrade_English_NI\n",
      "MCAS_6thGrade_English_W/F #\n",
      "% MCAS_6thGrade_English_W/F\n",
      "MCAS_6thGrade_English_Stud. Incl. #\n",
      "MCAS_6thGrade_English_CPI\n",
      "MCAS_6thGrade_English_SGP\n",
      "MCAS_6thGrade_English_Incl. in SGP(#)\n",
      "MCAS_7thGrade_English_P+A #\n",
      "% MCAS_7thGrade_English_P+A\n",
      "MCAS_7thGrade_English_A #\n",
      "% MCAS_7thGrade_English_A\n",
      "MCAS_7thGrade_English_P #\n",
      "% MCAS_7thGrade_English_P\n",
      "MCAS_7thGrade_English_NI #\n",
      "% MCAS_7thGrade_English_NI\n",
      "MCAS_7thGrade_English_W/F #\n",
      "% MCAS_7thGrade_English_W/F\n",
      "MCAS_7thGrade_English_Stud. Incl. #\n",
      "MCAS_7thGrade_English_CPI\n",
      "MCAS_7thGrade_English_SGP\n",
      "MCAS_7thGrade_English_Incl. in SGP(#)\n",
      "MCAS_8thGrade_English_P+A #\n",
      "% MCAS_8thGrade_English_P+A\n",
      "MCAS_8thGrade_English_A #\n",
      "% MCAS_8thGrade_English_A\n",
      "MCAS_8thGrade_English_P #\n",
      "% MCAS_8thGrade_English_P\n",
      "MCAS_8thGrade_English_NI #\n",
      "% MCAS_8thGrade_English_NI\n",
      "MCAS_8thGrade_English_W/F #\n",
      "% MCAS_8thGrade_English_W/F\n",
      "MCAS_8thGrade_English_Stud. Incl. #\n",
      "MCAS_8thGrade_English_CPI\n",
      "MCAS_8thGrade_English_SGP\n",
      "MCAS_8thGrade_English_Incl. in SGP(#)\n",
      "MCAS_10thGrade_English_P+A #\n",
      "% MCAS_10thGrade_English_P+A\n",
      "MCAS_10thGrade_English_A #\n",
      "% MCAS_10thGrade_English_A\n",
      "MCAS_10thGrade_English_P #\n",
      "% MCAS_10thGrade_English_P\n",
      "MCAS_10thGrade_English_NI #\n",
      "% MCAS_10thGrade_English_NI\n",
      "MCAS_10thGrade_English_W/F #\n",
      "% MCAS_10thGrade_English_W/F\n",
      "MCAS_10thGrade_English_Stud. Incl. #\n",
      "MCAS_10thGrade_English_CPI\n",
      "MCAS_10thGrade_English_SGP\n",
      "MCAS_10thGrade_English_Incl. in SGP(#)\n",
      "Accountability and Assistance Level\n",
      "Accountability and Assistance Description\n",
      "School Accountability Percentile (1-99)\n",
      "Progress and Performance Index (PPI) - All Students\n",
      "Progress and Performance Index (PPI) - High Needs Students\n",
      "District_Accountability and Assistance Level\n",
      "District_Accountability and Assistance Description\n",
      "District_Progress and Performance Index (PPI) - All Students\n",
      "District_Progress and Performance Index (PPI) - High Needs Students\n"
     ]
    }
   ],
   "source": [
    "for column in df.columns:\n",
    "    print(column)"
   ]
  },
  {
   "cell_type": "code",
   "execution_count": 6,
   "metadata": {},
   "outputs": [
    {
     "data": {
      "text/plain": [
       "380677"
      ]
     },
     "execution_count": 6,
     "metadata": {},
     "output_type": "execute_result"
    }
   ],
   "source": [
    "df.isna().sum().sum()"
   ]
  },
  {
   "cell_type": "code",
   "execution_count": 7,
   "metadata": {},
   "outputs": [],
   "source": [
    "df_encoded = df.copy()"
   ]
  },
  {
   "cell_type": "code",
   "execution_count": 8,
   "metadata": {},
   "outputs": [
    {
     "data": {
      "text/plain": [
       "array([['Public School'],\n",
       "       ['Public School'],\n",
       "       ['Public School'],\n",
       "       ...,\n",
       "       ['Public School'],\n",
       "       ['Charter School'],\n",
       "       ['Charter School']], dtype=object)"
      ]
     },
     "execution_count": 8,
     "metadata": {},
     "output_type": "execute_result"
    }
   ],
   "source": [
    "numpy.array(df_encoded[\"School Type\"]).reshape(-1, 1)"
   ]
  },
  {
   "cell_type": "code",
   "execution_count": 9,
   "metadata": {},
   "outputs": [],
   "source": [
    "for column_name in one_hot_encode:\n",
    "    encoder = OneHotEncoder(sparse=False)\n",
    "    column = numpy.array(df_encoded[column_name][df_encoded[column_name].notna()]).reshape(-1, 1)\n",
    "    encoder.fit(column)\n",
    "    indices = df_encoded[column_name][df_encoded[column_name].notna()].index\n",
    "    for i in range(len(encoder.categories_[0])):\n",
    "        new_column_name = column_name + \": \" + encoder.categories_[0][i]\n",
    "        df_encoded = pandas.merge(df_encoded, pandas.DataFrame({new_column_name: encoder.transform(column)[:, i]}), left_index = True, right_index = True)\n",
    "    df_encoded = df_encoded.drop(column_name, 1)"
   ]
  },
  {
   "cell_type": "code",
   "execution_count": 10,
   "metadata": {},
   "outputs": [],
   "source": [
    "# Fix Data\n",
    "df_clean = df_encoded\n",
    "\n",
    "for column in floatify_columns:\n",
    "    for row in range(df_clean.shape[0]):\n",
    "        if type(df_clean.loc[row, column]) is str:\n",
    "            df_clean.loc[row, column] = float(df_clean.loc[row, column].replace(',', ''))\n",
    "\n",
    "for column in levelize_columns:\n",
    "    for row in range(df_clean.shape[0]):\n",
    "        value = df_clean.loc[row, column]\n",
    "        if value == \"Insufficient data\":\n",
    "            df_clean.loc[row, column] = numpy.nan\n",
    "        elif value == \"Level 1\":\n",
    "            df_clean.loc[row, column] = 1\n",
    "        elif df_clean.loc[row, column] == \"Level 2\":\n",
    "            df_clean.loc[row, column] = 2\n",
    "        elif df_clean.loc[row, column] == \"Level 3\":\n",
    "            df_clean.loc[row, column] = 3\n",
    "        elif df_clean.loc[row, column] == \"Level 4\":\n",
    "            df_clean.loc[row, column] = 4\n",
    "        elif df_clean.loc[row, column] == \"Level 5\":\n",
    "            df_clean.loc[row, column] = 5\n",
    "\n",
    "grades = [\"PK\", \"K\", \"1\", \"2\", \"3\", \"4\", \"5\", \"6\", \"7\", \"8\", \"9\", \"10\", \"11\", \"12\"]\n",
    "\n",
    "for grade in grades:\n",
    "    df_clean[\"Grade \" + grade] = numpy.full(df_clean.shape[0], 0)\n",
    "\n",
    "for column in gradify_columns:\n",
    "    for row in range(df_clean.shape[0]):\n",
    "        if type(df_clean.loc[row, column]) is not float:\n",
    "            for current_grade in df_clean.loc[row, column].replace(\"0\", \"\").split(\",\"):\n",
    "                df_clean.loc[row, \"Grade \" + current_grade] = 1\n",
    "\n",
    "    df_clean = df_clean.drop(column, 1)"
   ]
  },
  {
   "cell_type": "code",
   "execution_count": 11,
   "metadata": {},
   "outputs": [
    {
     "data": {
      "text/plain": [
       "380929"
      ]
     },
     "execution_count": 11,
     "metadata": {},
     "output_type": "execute_result"
    }
   ],
   "source": [
    "df_clean.isna().sum().sum()"
   ]
  },
  {
   "cell_type": "code",
   "execution_count": 12,
   "metadata": {},
   "outputs": [
    {
     "name": "stdout",
     "output_type": "stream",
     "text": [
      "School Type\n",
      "Function\n",
      "Grade\n"
     ]
    }
   ],
   "source": [
    "# Columns that were removed\n",
    "for column in df.columns:\n",
    "    if column not in df_clean.columns:\n",
    "        print(column)"
   ]
  },
  {
   "cell_type": "code",
   "execution_count": 13,
   "metadata": {},
   "outputs": [],
   "source": [
    "# Get rid of errored/confusing data\n",
    "df_slim = df_clean\n",
    "for column in ignore_columns:\n",
    "    if column in df_slim.columns:\n",
    "        df_slim = df_slim.drop(column, 1)"
   ]
  },
  {
   "cell_type": "code",
   "execution_count": 14,
   "metadata": {},
   "outputs": [
    {
     "data": {
      "text/plain": [
       "(1861, 296)"
      ]
     },
     "execution_count": 14,
     "metadata": {},
     "output_type": "execute_result"
    }
   ],
   "source": [
    "df_slim.shape"
   ]
  },
  {
   "cell_type": "code",
   "execution_count": 15,
   "metadata": {},
   "outputs": [
    {
     "data": {
      "text/plain": [
       "count    376.000000\n",
       "mean      83.327394\n",
       "std       21.459396\n",
       "min        0.000000\n",
       "25%       82.150000\n",
       "50%       92.250000\n",
       "75%       96.200000\n",
       "max      100.000000\n",
       "Name: % Graduated, dtype: float64"
      ]
     },
     "execution_count": 15,
     "metadata": {},
     "output_type": "execute_result"
    }
   ],
   "source": [
    "df[y_column_name].describe()"
   ]
  },
  {
   "cell_type": "code",
   "execution_count": 16,
   "metadata": {},
   "outputs": [
    {
     "data": {
      "text/plain": [
       "<matplotlib.axes._subplots.AxesSubplot at 0x219ddbda8c8>"
      ]
     },
     "execution_count": 16,
     "metadata": {},
     "output_type": "execute_result"
    },
    {
     "data": {
      "image/png": "[encoded data removed]",
      "text/plain": [
       "<Figure size 432x288 with 1 Axes>"
      ]
     },
     "metadata": {
      "needs_background": "light"
     },
     "output_type": "display_data"
    }
   ],
   "source": [
    "seaborn.distplot(df[y_column_name][df[y_column_name].notna()], kde=False)"
   ]
  },
  {
   "cell_type": "code",
   "execution_count": 17,
   "metadata": {},
   "outputs": [
    {
     "data": {
      "text/plain": [
       "0.7979580870499732"
      ]
     },
     "execution_count": 17,
     "metadata": {},
     "output_type": "execute_result"
    }
   ],
   "source": [
    "df[y_column_name].isna().sum() / df.shape[0]"
   ]
  },
  {
   "cell_type": "code",
   "execution_count": 18,
   "metadata": {},
   "outputs": [
    {
     "data": {
      "text/plain": [
       "(376, 296)"
      ]
     },
     "execution_count": 18,
     "metadata": {},
     "output_type": "execute_result"
    }
   ],
   "source": [
    "df_fixed_y_column = df_slim[df_slim[y_column_name].notna()]\n",
    "df_fixed_y_column.shape"
   ]
  },
  {
   "cell_type": "code",
   "execution_count": 19,
   "metadata": {},
   "outputs": [
    {
     "name": "stderr",
     "output_type": "stream",
     "text": [
      "C:\\ProgramData\\Anaconda3\\lib\\site-packages\\ipykernel_launcher.py:1: SettingWithCopyWarning: \n",
      "A value is trying to be set on a copy of a slice from a DataFrame.\n",
      "Try using .loc[row_indexer,col_indexer] = value instead\n",
      "\n",
      "See the caveats in the documentation: http://pandas.pydata.org/pandas-docs/stable/user_guide/indexing.html#returning-a-view-versus-a-copy\n",
      "  \"\"\"Entry point for launching an IPython kernel.\n"
     ]
    },
    {
     "data": {
      "text/plain": [
       "0       1.0\n",
       "8       1.0\n",
       "16      1.0\n",
       "17      0.0\n",
       "23      1.0\n",
       "       ... \n",
       "1826    0.0\n",
       "1831    1.0\n",
       "1838    1.0\n",
       "1851    0.0\n",
       "1858    0.0\n",
       "Name: % Graduated, Length: 376, dtype: float64"
      ]
     },
     "execution_count": 19,
     "metadata": {},
     "output_type": "execute_result"
    }
   ],
   "source": [
    "df_fixed_y_column[y_column_name] = OrdinalEncoder().fit_transform(numpy.array(df_fixed_y_column[y_column_name] > df_fixed_y_column[y_column_name].mean()).reshape(-1, 1))\n",
    "df_fixed_y_column[y_column_name]"
   ]
  },
  {
   "cell_type": "code",
   "execution_count": 20,
   "metadata": {},
   "outputs": [
    {
     "name": "stdout",
     "output_type": "stream",
     "text": [
      "Run 0\n",
      "Run 1\n",
      "Run 2\n",
      "Run 3\n"
     ]
    },
    {
     "name": "stderr",
     "output_type": "stream",
     "text": [
      "C:\\ProgramData\\Anaconda3\\lib\\site-packages\\sklearn\\impute\\_iterative.py:603: ConvergenceWarning: [IterativeImputer] Early stopping criterion not reached.\n",
      "  \" reached.\", ConvergenceWarning)\n"
     ]
    },
    {
     "name": "stdout",
     "output_type": "stream",
     "text": [
      "Run 4\n",
      "Run 5\n",
      "Run 6\n",
      "Run 7\n"
     ]
    },
    {
     "name": "stderr",
     "output_type": "stream",
     "text": [
      "C:\\ProgramData\\Anaconda3\\lib\\site-packages\\sklearn\\impute\\_iterative.py:603: ConvergenceWarning: [IterativeImputer] Early stopping criterion not reached.\n",
      "  \" reached.\", ConvergenceWarning)\n"
     ]
    },
    {
     "name": "stdout",
     "output_type": "stream",
     "text": [
      "Run 8\n",
      "Run 9\n",
      "Run 10\n",
      "Run 11\n",
      "Run 12\n",
      "Run 13\n"
     ]
    },
    {
     "name": "stderr",
     "output_type": "stream",
     "text": [
      "C:\\ProgramData\\Anaconda3\\lib\\site-packages\\sklearn\\impute\\_iterative.py:603: ConvergenceWarning: [IterativeImputer] Early stopping criterion not reached.\n",
      "  \" reached.\", ConvergenceWarning)\n"
     ]
    },
    {
     "name": "stdout",
     "output_type": "stream",
     "text": [
      "Run 14\n",
      "Run 15\n",
      "Run 16\n",
      "Run 17\n",
      "Run 18\n",
      "Run 19\n",
      "Run 20\n",
      "Run 21\n",
      "Run 22\n",
      "Run 23\n"
     ]
    },
    {
     "name": "stderr",
     "output_type": "stream",
     "text": [
      "C:\\ProgramData\\Anaconda3\\lib\\site-packages\\sklearn\\impute\\_iterative.py:603: ConvergenceWarning: [IterativeImputer] Early stopping criterion not reached.\n",
      "  \" reached.\", ConvergenceWarning)\n"
     ]
    },
    {
     "name": "stdout",
     "output_type": "stream",
     "text": [
      "Run 24\n",
      "Run 25\n",
      "Run 26\n",
      "Run 27\n",
      "Run 28\n"
     ]
    },
    {
     "name": "stderr",
     "output_type": "stream",
     "text": [
      "C:\\ProgramData\\Anaconda3\\lib\\site-packages\\sklearn\\impute\\_iterative.py:603: ConvergenceWarning: [IterativeImputer] Early stopping criterion not reached.\n",
      "  \" reached.\", ConvergenceWarning)\n"
     ]
    },
    {
     "name": "stdout",
     "output_type": "stream",
     "text": [
      "Run 29\n",
      "Run 30\n"
     ]
    },
    {
     "name": "stderr",
     "output_type": "stream",
     "text": [
      "C:\\ProgramData\\Anaconda3\\lib\\site-packages\\sklearn\\impute\\_iterative.py:603: ConvergenceWarning: [IterativeImputer] Early stopping criterion not reached.\n",
      "  \" reached.\", ConvergenceWarning)\n"
     ]
    },
    {
     "name": "stdout",
     "output_type": "stream",
     "text": [
      "Run 31\n",
      "Run 32\n",
      "Run 33\n",
      "Run 34\n",
      "Run 35\n",
      "Run 36\n"
     ]
    },
    {
     "name": "stderr",
     "output_type": "stream",
     "text": [
      "C:\\ProgramData\\Anaconda3\\lib\\site-packages\\sklearn\\impute\\_iterative.py:603: ConvergenceWarning: [IterativeImputer] Early stopping criterion not reached.\n",
      "  \" reached.\", ConvergenceWarning)\n"
     ]
    },
    {
     "name": "stdout",
     "output_type": "stream",
     "text": [
      "Run 37\n",
      "Run 38\n"
     ]
    },
    {
     "name": "stderr",
     "output_type": "stream",
     "text": [
      "C:\\ProgramData\\Anaconda3\\lib\\site-packages\\sklearn\\impute\\_iterative.py:603: ConvergenceWarning: [IterativeImputer] Early stopping criterion not reached.\n",
      "  \" reached.\", ConvergenceWarning)\n"
     ]
    },
    {
     "name": "stdout",
     "output_type": "stream",
     "text": [
      "Run 39\n"
     ]
    },
    {
     "name": "stderr",
     "output_type": "stream",
     "text": [
      "C:\\ProgramData\\Anaconda3\\lib\\site-packages\\sklearn\\impute\\_iterative.py:603: ConvergenceWarning: [IterativeImputer] Early stopping criterion not reached.\n",
      "  \" reached.\", ConvergenceWarning)\n"
     ]
    },
    {
     "name": "stdout",
     "output_type": "stream",
     "text": [
      "Run 40\n"
     ]
    },
    {
     "name": "stderr",
     "output_type": "stream",
     "text": [
      "C:\\ProgramData\\Anaconda3\\lib\\site-packages\\sklearn\\impute\\_iterative.py:603: ConvergenceWarning: [IterativeImputer] Early stopping criterion not reached.\n",
      "  \" reached.\", ConvergenceWarning)\n"
     ]
    },
    {
     "name": "stdout",
     "output_type": "stream",
     "text": [
      "Run 41\n",
      "Run 42\n"
     ]
    },
    {
     "name": "stderr",
     "output_type": "stream",
     "text": [
      "C:\\ProgramData\\Anaconda3\\lib\\site-packages\\sklearn\\impute\\_iterative.py:603: ConvergenceWarning: [IterativeImputer] Early stopping criterion not reached.\n",
      "  \" reached.\", ConvergenceWarning)\n"
     ]
    },
    {
     "name": "stdout",
     "output_type": "stream",
     "text": [
      "Run 43\n",
      "Run 44\n"
     ]
    },
    {
     "name": "stderr",
     "output_type": "stream",
     "text": [
      "C:\\ProgramData\\Anaconda3\\lib\\site-packages\\sklearn\\impute\\_iterative.py:603: ConvergenceWarning: [IterativeImputer] Early stopping criterion not reached.\n",
      "  \" reached.\", ConvergenceWarning)\n"
     ]
    },
    {
     "name": "stdout",
     "output_type": "stream",
     "text": [
      "Run 45\n",
      "Run 46\n",
      "Run 47\n",
      "Run 48\n",
      "Run 49\n",
      "Run 50\n"
     ]
    },
    {
     "name": "stderr",
     "output_type": "stream",
     "text": [
      "C:\\ProgramData\\Anaconda3\\lib\\site-packages\\sklearn\\impute\\_iterative.py:603: ConvergenceWarning: [IterativeImputer] Early stopping criterion not reached.\n",
      "  \" reached.\", ConvergenceWarning)\n"
     ]
    },
    {
     "name": "stdout",
     "output_type": "stream",
     "text": [
      "Run 51\n",
      "Run 52\n",
      "Run 53\n",
      "Run 54\n",
      "Run 55\n"
     ]
    },
    {
     "name": "stderr",
     "output_type": "stream",
     "text": [
      "C:\\ProgramData\\Anaconda3\\lib\\site-packages\\sklearn\\impute\\_iterative.py:603: ConvergenceWarning: [IterativeImputer] Early stopping criterion not reached.\n",
      "  \" reached.\", ConvergenceWarning)\n"
     ]
    },
    {
     "name": "stdout",
     "output_type": "stream",
     "text": [
      "Run 56\n",
      "Run 57\n",
      "Run 58\n"
     ]
    },
    {
     "name": "stderr",
     "output_type": "stream",
     "text": [
      "C:\\ProgramData\\Anaconda3\\lib\\site-packages\\sklearn\\impute\\_iterative.py:603: ConvergenceWarning: [IterativeImputer] Early stopping criterion not reached.\n",
      "  \" reached.\", ConvergenceWarning)\n"
     ]
    },
    {
     "name": "stdout",
     "output_type": "stream",
     "text": [
      "Run 59\n",
      "Run 60\n",
      "Run 61\n",
      "Run 62\n"
     ]
    },
    {
     "name": "stderr",
     "output_type": "stream",
     "text": [
      "C:\\ProgramData\\Anaconda3\\lib\\site-packages\\sklearn\\impute\\_iterative.py:603: ConvergenceWarning: [IterativeImputer] Early stopping criterion not reached.\n",
      "  \" reached.\", ConvergenceWarning)\n"
     ]
    },
    {
     "name": "stdout",
     "output_type": "stream",
     "text": [
      "Run 63\n",
      "Run 64\n",
      "Run 65\n",
      "Run 66\n"
     ]
    },
    {
     "name": "stderr",
     "output_type": "stream",
     "text": [
      "C:\\ProgramData\\Anaconda3\\lib\\site-packages\\sklearn\\impute\\_iterative.py:603: ConvergenceWarning: [IterativeImputer] Early stopping criterion not reached.\n",
      "  \" reached.\", ConvergenceWarning)\n"
     ]
    },
    {
     "name": "stdout",
     "output_type": "stream",
     "text": [
      "Run 67\n",
      "Run 68\n",
      "Run 69\n",
      "Run 70\n"
     ]
    },
    {
     "name": "stderr",
     "output_type": "stream",
     "text": [
      "C:\\ProgramData\\Anaconda3\\lib\\site-packages\\sklearn\\impute\\_iterative.py:603: ConvergenceWarning: [IterativeImputer] Early stopping criterion not reached.\n",
      "  \" reached.\", ConvergenceWarning)\n"
     ]
    },
    {
     "name": "stdout",
     "output_type": "stream",
     "text": [
      "Run 71\n",
      "Run 72\n",
      "Run 73\n",
      "Run 74\n",
      "Run 75\n"
     ]
    },
    {
     "name": "stderr",
     "output_type": "stream",
     "text": [
      "C:\\ProgramData\\Anaconda3\\lib\\site-packages\\sklearn\\impute\\_iterative.py:603: ConvergenceWarning: [IterativeImputer] Early stopping criterion not reached.\n",
      "  \" reached.\", ConvergenceWarning)\n"
     ]
    },
    {
     "name": "stdout",
     "output_type": "stream",
     "text": [
      "Run 76\n"
     ]
    },
    {
     "name": "stderr",
     "output_type": "stream",
     "text": [
      "C:\\ProgramData\\Anaconda3\\lib\\site-packages\\sklearn\\impute\\_iterative.py:603: ConvergenceWarning: [IterativeImputer] Early stopping criterion not reached.\n",
      "  \" reached.\", ConvergenceWarning)\n"
     ]
    },
    {
     "name": "stdout",
     "output_type": "stream",
     "text": [
      "Run 77\n",
      "Run 78\n",
      "Run 79\n",
      "Run 80\n"
     ]
    },
    {
     "name": "stderr",
     "output_type": "stream",
     "text": [
      "C:\\ProgramData\\Anaconda3\\lib\\site-packages\\sklearn\\impute\\_iterative.py:603: ConvergenceWarning: [IterativeImputer] Early stopping criterion not reached.\n",
      "  \" reached.\", ConvergenceWarning)\n"
     ]
    },
    {
     "name": "stdout",
     "output_type": "stream",
     "text": [
      "Run 81\n"
     ]
    },
    {
     "name": "stderr",
     "output_type": "stream",
     "text": [
      "C:\\ProgramData\\Anaconda3\\lib\\site-packages\\sklearn\\impute\\_iterative.py:603: ConvergenceWarning: [IterativeImputer] Early stopping criterion not reached.\n",
      "  \" reached.\", ConvergenceWarning)\n"
     ]
    },
    {
     "name": "stdout",
     "output_type": "stream",
     "text": [
      "Run 82\n"
     ]
    },
    {
     "name": "stderr",
     "output_type": "stream",
     "text": [
      "C:\\ProgramData\\Anaconda3\\lib\\site-packages\\sklearn\\impute\\_iterative.py:603: ConvergenceWarning: [IterativeImputer] Early stopping criterion not reached.\n",
      "  \" reached.\", ConvergenceWarning)\n"
     ]
    },
    {
     "name": "stdout",
     "output_type": "stream",
     "text": [
      "Run 83\n"
     ]
    },
    {
     "name": "stderr",
     "output_type": "stream",
     "text": [
      "C:\\ProgramData\\Anaconda3\\lib\\site-packages\\sklearn\\impute\\_iterative.py:603: ConvergenceWarning: [IterativeImputer] Early stopping criterion not reached.\n",
      "  \" reached.\", ConvergenceWarning)\n"
     ]
    },
    {
     "name": "stdout",
     "output_type": "stream",
     "text": [
      "Run 84\n"
     ]
    },
    {
     "name": "stderr",
     "output_type": "stream",
     "text": [
      "C:\\ProgramData\\Anaconda3\\lib\\site-packages\\sklearn\\impute\\_iterative.py:603: ConvergenceWarning: [IterativeImputer] Early stopping criterion not reached.\n",
      "  \" reached.\", ConvergenceWarning)\n"
     ]
    },
    {
     "name": "stdout",
     "output_type": "stream",
     "text": [
      "Run 85\n",
      "Run 86\n",
      "Run 87\n",
      "Run 88\n",
      "Run 89\n",
      "Run 90\n",
      "Run 91\n",
      "Run 92\n",
      "Run 93\n",
      "Run 94\n",
      "Run 95\n"
     ]
    },
    {
     "name": "stderr",
     "output_type": "stream",
     "text": [
      "C:\\ProgramData\\Anaconda3\\lib\\site-packages\\sklearn\\impute\\_iterative.py:603: ConvergenceWarning: [IterativeImputer] Early stopping criterion not reached.\n",
      "  \" reached.\", ConvergenceWarning)\n"
     ]
    },
    {
     "name": "stdout",
     "output_type": "stream",
     "text": [
      "Run 96\n",
      "Run 97\n",
      "Run 98\n",
      "Run 99\n"
     ]
    }
   ],
   "source": [
    "accuracy_scores = []\n",
    "jaccard_scores = []\n",
    "aggregated_feature_importances = {}\n",
    "\n",
    "for column in df_fixed_y_column.columns:\n",
    "    if column != y_column_name:\n",
    "        aggregated_feature_importances[column] = 0\n",
    "\n",
    "number_of_bootstraps = 100\n",
    "for run in range(number_of_bootstraps):\n",
    "    print(\"Run {0}\".format(run))\n",
    "    \n",
    "    # Split X and Y\n",
    "    x = df_fixed_y_column.drop(y_column_name, 1)\n",
    "    y = df_fixed_y_column[y_column_name]\n",
    "    x_train, x_test, y_train, y_test = train_test_split(x, y, test_size=0.2)\n",
    "    \n",
    "    # Recombine the X and Y of the training data\n",
    "    df_train = pandas.merge(pandas.DataFrame(x_train), pandas.DataFrame(y_train), left_index=True, right_index=True)\n",
    "    \n",
    "    # Balance the groups in the training data (with resampling)\n",
    "    lengths = []\n",
    "    for group_index in range(y_groups):\n",
    "        group_1_len = df_train[df_train[y_column_name] == 1].shape[0]\n",
    "    df_train = pandas.concat([\n",
    "        df_train[df_train[y_column_name] == 1],\n",
    "        resample(df_train[df_train[y_column_name] == 0], n_samples=group_1_len)\n",
    "    ])\n",
    "    \n",
    "    # Resplit X and Y\n",
    "    x_train = df_train.drop(y_column_name, 1)\n",
    "    y_train = df_train[y_column_name]\n",
    "    \n",
    "    # Create the pipeline\n",
    "    imputer = IterativeImputer()\n",
    "    scaler = RobustScaler()\n",
    "    selector = SelectFromModel(RidgeClassifierCV())\n",
    "    model = AdaBoostClassifier()\n",
    "    pipeline = Pipeline(steps=[\n",
    "        (\"imputer\", imputer),\n",
    "    #     (\"scaler\", scaler),\n",
    "        (\"selector\", selector),\n",
    "        (\"model\", model)\n",
    "    ])\n",
    "    \n",
    "    # Pipeline Classification\n",
    "    pipeline.fit(x_train, y_train)\n",
    "    y_pred = pipeline.predict(x_test)\n",
    "    \n",
    "    # Accuracy Score\n",
    "    accuracy_scores.append(accuracy_score(y_test, y_pred))\n",
    "    \n",
    "    # Jaccard Score\n",
    "    jaccard_scores.append(jaccard_score(y_test, y_pred))\n",
    "    \n",
    "    # Feature Importances\n",
    "    for index in range(len(model.feature_importances_)):\n",
    "        column = x_train.columns[index]\n",
    "        importance = model.feature_importances_[index]\n",
    "        aggregated_feature_importances[column] += importance"
   ]
  },
  {
   "cell_type": "code",
   "execution_count": 21,
   "metadata": {},
   "outputs": [
    {
     "data": {
      "text/plain": [
       "<matplotlib.axes._subplots.AxesSubplot at 0x219ddd09d08>"
      ]
     },
     "execution_count": 21,
     "metadata": {},
     "output_type": "execute_result"
    },
    {
     "data": {
      "image/png": "[encoded data removed]",
      "text/plain": [
       "<Figure size 432x288 with 1 Axes>"
      ]
     },
     "metadata": {
      "needs_background": "light"
     },
     "output_type": "display_data"
    }
   ],
   "source": [
    "seaborn.distplot(accuracy_scores, kde=False)"
   ]
  },
  {
   "cell_type": "code",
   "execution_count": 22,
   "metadata": {},
   "outputs": [
    {
     "name": "stdout",
     "output_type": "stream",
     "text": [
      "0.868 (0.776, 0.947)\n"
     ]
    }
   ],
   "source": [
    "accuracy = 0.95\n",
    "partial_accuracy = (1-accuracy) / 2\n",
    "accuracy_scores_sorted = sorted(accuracy_scores)\n",
    "estimate = accuracy_scores_sorted[int(len(accuracy_scores_sorted) / 2)]\n",
    "lower_ci = accuracy_scores_sorted[int(len(accuracy_scores_sorted) * partial_accuracy)]\n",
    "upper_ci = accuracy_scores_sorted[int(len(accuracy_scores_sorted) * (1-partial_accuracy))]\n",
    "print(\"{0:.3f} ({1:.3f}, {2:.3f})\".format(estimate, lower_ci, upper_ci))"
   ]
  },
  {
   "cell_type": "code",
   "execution_count": 23,
   "metadata": {},
   "outputs": [
    {
     "data": {
      "text/plain": [
       "<matplotlib.axes._subplots.AxesSubplot at 0x219911b62c8>"
      ]
     },
     "execution_count": 23,
     "metadata": {},
     "output_type": "execute_result"
    },
    {
     "data": {
      "image/png": "[encoded data removed]",
      "text/plain": [
       "<Figure size 432x288 with 1 Axes>"
      ]
     },
     "metadata": {
      "needs_background": "light"
     },
     "output_type": "display_data"
    }
   ],
   "source": [
    "seaborn.distplot(jaccard_scores, kde=False)"
   ]
  },
  {
   "cell_type": "code",
   "execution_count": 24,
   "metadata": {},
   "outputs": [
    {
     "name": "stdout",
     "output_type": "stream",
     "text": [
      "0.839 (0.735, 0.929)\n"
     ]
    }
   ],
   "source": [
    "accuracy = 0.95\n",
    "partial_accuracy = (1-accuracy) / 2\n",
    "jaccard_scores_sorted = sorted(jaccard_scores)\n",
    "estimate = jaccard_scores_sorted[int(len(jaccard_scores_sorted) / 2)]\n",
    "lower_ci = jaccard_scores_sorted[int(len(jaccard_scores_sorted) * partial_accuracy)]\n",
    "upper_ci = jaccard_scores_sorted[int(len(jaccard_scores_sorted) * (1-partial_accuracy))]\n",
    "print(\"{0:.3f} ({1:.3f}, {2:.3f})\".format(estimate, lower_ci, upper_ci))"
   ]
  },
  {
   "cell_type": "code",
   "execution_count": 25,
   "metadata": {},
   "outputs": [
    {
     "name": "stdout",
     "output_type": "stream",
     "text": [
      "3_Enrollment                                                                                        : 2.6800\n",
      "2_Enrollment                                                                                        : 2.2200\n",
      "4_Enrollment                                                                                        : 2.0400\n",
      "% Females                                                                                           : 1.9000\n",
      "1_Enrollment                                                                                        : 1.8800\n",
      "Average Salary                                                                                      : 1.7800\n",
      "FTE Count                                                                                           : 1.7600\n",
      "Total Pupil FTEs                                                                                    : 1.7600\n",
      "Salary Totals                                                                                       : 1.7600\n",
      "% Males                                                                                             : 1.7400\n",
      "Total In-district FTEs                                                                              : 1.7000\n",
      "% White                                                                                             : 1.6800\n",
      "Number of Students                                                                                  : 1.6600\n",
      "Average Class Size                                                                                  : 1.6600\n",
      "% Native Hawaiian, Pacific Islander                                                                 : 1.6400\n",
      "% Public Two-Year                                                                                   : 1.6400\n",
      "5_Enrollment                                                                                        : 1.6200\n",
      "% English Language Learner                                                                          : 1.6200\n",
      "Average In-District Expenditures per Pupil                                                          : 1.6200\n",
      "In-District Expenditures                                                                            : 1.6200\n",
      "Total # of Classes                                                                                  : 1.6000\n",
      "10_Enrollment                                                                                       : 1.5800\n",
      "% Hispanic                                                                                          : 1.5600\n",
      "First Language Not English                                                                          : 1.5400\n",
      "% Native American                                                                                   : 1.5200\n",
      "% Multi-Race, Non-Hispanic                                                                          : 1.4800\n",
      "English Language Learner                                                                            : 1.4400\n",
      "12_Enrollment                                                                                       : 1.4200\n",
      "Total Expenditures                                                                                  : 1.4200\n",
      "% Private Two-Year                                                                                  : 1.4200\n",
      "% Private Four-Year                                                                                 : 1.4200\n",
      "AP_Tests Taken                                                                                      : 1.4200\n",
      "High Needs                                                                                          : 1.4000\n",
      "Students With Disabilities                                                                          : 1.3600\n",
      "% First Language Not English                                                                        : 1.3400\n",
      "% Public Four-Year                                                                                  : 1.3400\n",
      "AP_Three Tests                                                                                      : 1.3400\n",
      "% MA Community College                                                                              : 1.3200\n",
      "6_Enrollment                                                                                        : 1.3000\n",
      "% High Needs                                                                                        : 1.3000\n",
      "% Economically Disadvantaged                                                                        : 1.3000\n",
      "AP_Two Tests                                                                                        : 1.3000\n",
      "# in Cohort                                                                                         : 1.3000\n",
      "Average Expenditures per Pupil                                                                      : 1.2800\n",
      "7_Enrollment                                                                                        : 1.2600\n",
      "Economically Disadvantaged                                                                          : 1.2600\n",
      "8_Enrollment                                                                                        : 1.2200\n",
      "AP_Test Takers                                                                                      : 1.2200\n",
      "SP_Enrollment                                                                                       : 1.2000\n",
      "% Asian                                                                                             : 1.1800\n",
      "9_Enrollment                                                                                        : 1.1600\n",
      "TOTAL_Enrollment                                                                                    : 1.1600\n",
      "% Students With Disabilities                                                                        : 1.1600\n",
      "AP_One Test                                                                                         : 1.1400\n",
      "AP_Score=3                                                                                          : 1.1400\n",
      "% UMass                                                                                             : 1.1200\n",
      "% African American                                                                                  : 1.0800\n",
      "11_Enrollment                                                                                       : 1.0600\n",
      "% Attending College                                                                                 : 1.0400\n",
      "AP_Score=2                                                                                          : 1.0200\n",
      "% AP_Score 1-2                                                                                      : 1.0200\n",
      "K_Enrollment                                                                                        : 1.0200\n",
      "% MA State University                                                                               : 0.9400\n",
      "AP_Five or More Tests                                                                               : 0.9200\n",
      "AP_Score=4                                                                                          : 0.9200\n",
      "Average SAT_Reading                                                                                 : 0.8400\n",
      "AP_Four Tests                                                                                       : 0.8200\n",
      "AP_Score=1                                                                                          : 0.8200\n",
      "AP_Score=5                                                                                          : 0.7000\n",
      "SAT_Tests Taken                                                                                     : 0.6800\n",
      "% AP_Score 3-5                                                                                      : 0.6600\n",
      "Average SAT_Math                                                                                    : 0.4200\n",
      "PK_Enrollment                                                                                       : 0.3800\n",
      "Average SAT_Writing                                                                                 : 0.3000\n",
      "MCAS_3rdGrade_Math_P+A #                                                                            : 0.3000\n",
      "District Code                                                                                       : 0.2400\n",
      "% MCAS_3rdGrade_Math_P+A                                                                            : 0.2400\n",
      "MCAS_3rdGrade_Math_P #                                                                              : 0.1200\n",
      "% MCAS_3rdGrade_Math_NI                                                                             : 0.1200\n",
      "MCAS_3rdGrade_Math_A #                                                                              : 0.1000\n",
      "% MCAS_3rdGrade_Math_A                                                                              : 0.1000\n",
      "% MCAS_3rdGrade_Math_P                                                                              : 0.0800\n",
      "MCAS_3rdGrade_Math_W/F #                                                                            : 0.0600\n",
      "MCAS_3rdGrade_Math_NI #                                                                             : 0.0400\n",
      "% MCAS_3rdGrade_Math_W/F                                                                            : 0.0200\n",
      "MCAS_3rdGrade_Math_CPI                                                                              : 0.0200\n",
      "MCAS_4thGrade_Math_P #                                                                              : 0.0200\n",
      "MCAS_3rdGrade_Math_Stud. Incl. #                                                                    : 0.0000\n",
      "MCAS_3rdGrade_Math_SGP                                                                              : 0.0000\n",
      "MCAS_3rdGrade_Math_Incl. in SGP(#)                                                                  : 0.0000\n",
      "MCAS_4thGrade_Math_P+A #                                                                            : 0.0000\n",
      "% MCAS_4thGrade_Math_P+A                                                                            : 0.0000\n",
      "MCAS_4thGrade_Math_A #                                                                              : 0.0000\n",
      "% MCAS_4thGrade_Math_A                                                                              : 0.0000\n",
      "% MCAS_4thGrade_Math_P                                                                              : 0.0000\n",
      "MCAS_4thGrade_Math_NI #                                                                             : 0.0000\n",
      "% MCAS_4thGrade_Math_NI                                                                             : 0.0000\n",
      "MCAS_4thGrade_Math_W/F #                                                                            : 0.0000\n",
      "% MCAS_4thGrade_Math_W/F                                                                            : 0.0000\n",
      "MCAS_4thGrade_Math_Stud. Incl. #                                                                    : 0.0000\n",
      "MCAS_4thGrade_Math_CPI                                                                              : 0.0000\n",
      "MCAS_4thGrade_Math_SGP                                                                              : 0.0000\n",
      "MCAS_4thGrade_Math_Incl. in SGP(#)                                                                  : 0.0000\n",
      "MCAS_5thGrade_Math_P+A #                                                                            : 0.0000\n",
      "% MCAS_5thGrade_Math_P+A                                                                            : 0.0000\n",
      "MCAS_5thGrade_Math_A #                                                                              : 0.0000\n",
      "% MCAS_5thGrade_Math_A                                                                              : 0.0000\n",
      "MCAS_5thGrade_Math_P #                                                                              : 0.0000\n",
      "% MCAS_5thGrade_Math_P                                                                              : 0.0000\n",
      "MCAS_5thGrade_Math_NI #                                                                             : 0.0000\n",
      "% MCAS_5thGrade_Math_NI                                                                             : 0.0000\n",
      "MCAS_5thGrade_Math_W/F #                                                                            : 0.0000\n",
      "% MCAS_5thGrade_Math_W/F                                                                            : 0.0000\n",
      "MCAS_5thGrade_Math_Stud. Incl. #                                                                    : 0.0000\n",
      "MCAS_5thGrade_Math_CPI                                                                              : 0.0000\n",
      "MCAS_5thGrade_Math_SGP                                                                              : 0.0000\n",
      "MCAS_5thGrade_Math_Incl. in SGP(#)                                                                  : 0.0000\n",
      "MCAS_6thGrade_Math_P+A #                                                                            : 0.0000\n",
      "% MCAS_6thGrade_Math_P+A                                                                            : 0.0000\n",
      "MCAS_6thGrade_Math_A #                                                                              : 0.0000\n",
      "% MCAS_6thGrade_Math_A                                                                              : 0.0000\n",
      "MCAS_6thGrade_Math_P #                                                                              : 0.0000\n",
      "% MCAS_6thGrade_Math_P                                                                              : 0.0000\n",
      "MCAS_6thGrade_Math_NI #                                                                             : 0.0000\n",
      "% MCAS_6thGrade_Math_NI                                                                             : 0.0000\n",
      "MCAS_6thGrade_Math_W/F #                                                                            : 0.0000\n",
      "% MCAS_6thGrade_Math_W/F                                                                            : 0.0000\n",
      "MCAS_6thGrade_Math_Stud. Incl. #                                                                    : 0.0000\n",
      "MCAS_6thGrade_Math_CPI                                                                              : 0.0000\n",
      "MCAS_6thGrade_Math_SGP                                                                              : 0.0000\n",
      "MCAS_6thGrade_Math_Incl. in SGP(#)                                                                  : 0.0000\n",
      "MCAS_7thGrade_Math_P+A #                                                                            : 0.0000\n",
      "% MCAS_7thGrade_Math_P+A                                                                            : 0.0000\n",
      "MCAS_7thGrade_Math_A #                                                                              : 0.0000\n",
      "% MCAS_7thGrade_Math_A                                                                              : 0.0000\n",
      "MCAS_7thGrade_Math_P #                                                                              : 0.0000\n",
      "% MCAS_7thGrade_Math_P                                                                              : 0.0000\n",
      "MCAS_7thGrade_Math_NI #                                                                             : 0.0000\n",
      "% MCAS_7thGrade_Math_NI                                                                             : 0.0000\n",
      "MCAS_7thGrade_Math_W/F #                                                                            : 0.0000\n",
      "% MCAS_7thGrade_Math_W/F                                                                            : 0.0000\n",
      "MCAS_7thGrade_Math_Stud. Incl. #                                                                    : 0.0000\n",
      "MCAS_7thGrade_Math_CPI                                                                              : 0.0000\n",
      "MCAS_7thGrade_Math_SGP                                                                              : 0.0000\n",
      "MCAS_7thGrade_Math_Incl. in SGP(#)                                                                  : 0.0000\n",
      "MCAS_8thGrade_Math_P+A #                                                                            : 0.0000\n",
      "% MCAS_8thGrade_Math_P+A                                                                            : 0.0000\n",
      "MCAS_8thGrade_Math_A #                                                                              : 0.0000\n",
      "% MCAS_8thGrade_Math_A                                                                              : 0.0000\n",
      "MCAS_8thGrade_Math_P #                                                                              : 0.0000\n",
      "% MCAS_8thGrade_Math_P                                                                              : 0.0000\n",
      "MCAS_8thGrade_Math_NI #                                                                             : 0.0000\n",
      "% MCAS_8thGrade_Math_NI                                                                             : 0.0000\n",
      "MCAS_8thGrade_Math_W/F #                                                                            : 0.0000\n",
      "% MCAS_8thGrade_Math_W/F                                                                            : 0.0000\n",
      "MCAS_8thGrade_Math_Stud. Incl. #                                                                    : 0.0000\n",
      "MCAS_8thGrade_Math_CPI                                                                              : 0.0000\n",
      "MCAS_8thGrade_Math_SGP                                                                              : 0.0000\n",
      "MCAS_8thGrade_Math_Incl. in SGP(#)                                                                  : 0.0000\n",
      "MCAS_10thGrade_Math_P+A #                                                                           : 0.0000\n",
      "% MCAS_10thGrade_Math_P+A                                                                           : 0.0000\n",
      "MCAS_10thGrade_Math_A #                                                                             : 0.0000\n",
      "% MCAS_10thGrade_Math_A                                                                             : 0.0000\n",
      "MCAS_10thGrade_Math_P #                                                                             : 0.0000\n",
      "% MCAS_10thGrade_Math_P                                                                             : 0.0000\n",
      "MCAS_10thGrade_Math_NI #                                                                            : 0.0000\n",
      "% MCAS_10thGrade_Math_NI                                                                            : 0.0000\n",
      "MCAS_10thGrade_Math_W/F #                                                                           : 0.0000\n",
      "% MCAS_10thGrade_Math_W/F                                                                           : 0.0000\n",
      "MCAS_10thGrade_Math_Stud. Incl. #                                                                   : 0.0000\n",
      "MCAS_10thGrade_Math_CPI                                                                             : 0.0000\n",
      "MCAS_10thGrade_Math_SGP                                                                             : 0.0000\n",
      "MCAS_10thGrade_Math_Incl. in SGP(#)                                                                 : 0.0000\n",
      "MCAS_3rdGrade_English_P+A #                                                                         : 0.0000\n",
      "% MCAS_3rdGrade_English_P+A                                                                         : 0.0000\n",
      "MCAS_3rdGrade_English_A #                                                                           : 0.0000\n",
      "% MCAS_3rdGrade_English_A                                                                           : 0.0000\n",
      "MCAS_3rdGrade_English_P #                                                                           : 0.0000\n",
      "% MCAS_3rdGrade_English_P                                                                           : 0.0000\n",
      "MCAS_3rdGrade_English_NI #                                                                          : 0.0000\n",
      "% MCAS_3rdGrade_English_NI                                                                          : 0.0000\n",
      "MCAS_3rdGrade_English_W/F #                                                                         : 0.0000\n",
      "% MCAS_3rdGrade_English_W/F                                                                         : 0.0000\n",
      "MCAS_3rdGrade_English_Stud. Incl. #                                                                 : 0.0000\n",
      "MCAS_3rdGrade_English_CPI                                                                           : 0.0000\n",
      "MCAS_3rdGrade_English_SGP                                                                           : 0.0000\n",
      "MCAS_3rdGrade_English_Incl. in SGP(#)                                                               : 0.0000\n",
      "MCAS_4thGrade_English_P+A #                                                                         : 0.0000\n",
      "% MCAS_4thGrade_English_P+A                                                                         : 0.0000\n",
      "MCAS_4thGrade_English_A #                                                                           : 0.0000\n",
      "% MCAS_4thGrade_English_A                                                                           : 0.0000\n",
      "MCAS_4thGrade_English_P #                                                                           : 0.0000\n",
      "% MCAS_4thGrade_English_P                                                                           : 0.0000\n",
      "MCAS_4thGrade_English_NI #                                                                          : 0.0000\n",
      "% MCAS_4thGrade_English_NI                                                                          : 0.0000\n",
      "MCAS_4thGrade_English_W/F #                                                                         : 0.0000\n",
      "% MCAS_4thGrade_English_W/F                                                                         : 0.0000\n",
      "MCAS_4thGrade_English_Stud. Incl. #                                                                 : 0.0000\n",
      "MCAS_4thGrade_English_CPI                                                                           : 0.0000\n",
      "MCAS_4thGrade_English_SGP                                                                           : 0.0000\n",
      "MCAS_4thGrade_English_Incl. in SGP(#)                                                               : 0.0000\n",
      "MCAS_5thGrade_English_P+A #                                                                         : 0.0000\n",
      "% MCAS_5thGrade_English_P+A                                                                         : 0.0000\n",
      "MCAS_5thGrade_English_A #                                                                           : 0.0000\n",
      "% MCAS_5thGrade_English_A                                                                           : 0.0000\n",
      "MCAS_5thGrade_English_P #                                                                           : 0.0000\n",
      "% MCAS_5thGrade_English_P                                                                           : 0.0000\n",
      "MCAS_5thGrade_English_NI #                                                                          : 0.0000\n",
      "% MCAS_5thGrade_English_NI                                                                          : 0.0000\n",
      "MCAS_5thGrade_English_W/F #                                                                         : 0.0000\n",
      "% MCAS_5thGrade_English_W/F                                                                         : 0.0000\n",
      "MCAS_5thGrade_English_Stud. Incl. #                                                                 : 0.0000\n",
      "MCAS_5thGrade_English_CPI                                                                           : 0.0000\n",
      "MCAS_5thGrade_English_SGP                                                                           : 0.0000\n",
      "MCAS_5thGrade_English_Incl. in SGP(#)                                                               : 0.0000\n",
      "MCAS_6thGrade_English_P+A #                                                                         : 0.0000\n",
      "% MCAS_6thGrade_English_P+A                                                                         : 0.0000\n",
      "MCAS_6thGrade_English_A #                                                                           : 0.0000\n",
      "% MCAS_6thGrade_English_A                                                                           : 0.0000\n",
      "MCAS_6thGrade_English_P #                                                                           : 0.0000\n",
      "% MCAS_6thGrade_English_P                                                                           : 0.0000\n",
      "MCAS_6thGrade_English_NI #                                                                          : 0.0000\n",
      "% MCAS_6thGrade_English_NI                                                                          : 0.0000\n",
      "MCAS_6thGrade_English_W/F #                                                                         : 0.0000\n",
      "% MCAS_6thGrade_English_W/F                                                                         : 0.0000\n",
      "MCAS_6thGrade_English_Stud. Incl. #                                                                 : 0.0000\n",
      "MCAS_6thGrade_English_CPI                                                                           : 0.0000\n",
      "MCAS_6thGrade_English_SGP                                                                           : 0.0000\n",
      "MCAS_6thGrade_English_Incl. in SGP(#)                                                               : 0.0000\n",
      "MCAS_7thGrade_English_P+A #                                                                         : 0.0000\n",
      "% MCAS_7thGrade_English_P+A                                                                         : 0.0000\n",
      "MCAS_7thGrade_English_A #                                                                           : 0.0000\n",
      "% MCAS_7thGrade_English_A                                                                           : 0.0000\n",
      "MCAS_7thGrade_English_P #                                                                           : 0.0000\n",
      "% MCAS_7thGrade_English_P                                                                           : 0.0000\n",
      "MCAS_7thGrade_English_NI #                                                                          : 0.0000\n",
      "% MCAS_7thGrade_English_NI                                                                          : 0.0000\n",
      "MCAS_7thGrade_English_W/F #                                                                         : 0.0000\n",
      "% MCAS_7thGrade_English_W/F                                                                         : 0.0000\n",
      "MCAS_7thGrade_English_Stud. Incl. #                                                                 : 0.0000\n",
      "MCAS_7thGrade_English_CPI                                                                           : 0.0000\n",
      "MCAS_7thGrade_English_SGP                                                                           : 0.0000\n",
      "MCAS_7thGrade_English_Incl. in SGP(#)                                                               : 0.0000\n",
      "MCAS_8thGrade_English_P+A #                                                                         : 0.0000\n",
      "% MCAS_8thGrade_English_P+A                                                                         : 0.0000\n",
      "MCAS_8thGrade_English_A #                                                                           : 0.0000\n",
      "% MCAS_8thGrade_English_A                                                                           : 0.0000\n",
      "MCAS_8thGrade_English_P #                                                                           : 0.0000\n",
      "% MCAS_8thGrade_English_P                                                                           : 0.0000\n",
      "MCAS_8thGrade_English_NI #                                                                          : 0.0000\n",
      "% MCAS_8thGrade_English_NI                                                                          : 0.0000\n",
      "MCAS_8thGrade_English_W/F #                                                                         : 0.0000\n",
      "% MCAS_8thGrade_English_W/F                                                                         : 0.0000\n",
      "MCAS_8thGrade_English_Stud. Incl. #                                                                 : 0.0000\n",
      "MCAS_8thGrade_English_CPI                                                                           : 0.0000\n",
      "MCAS_8thGrade_English_SGP                                                                           : 0.0000\n",
      "MCAS_8thGrade_English_Incl. in SGP(#)                                                               : 0.0000\n",
      "MCAS_10thGrade_English_P+A #                                                                        : 0.0000\n",
      "% MCAS_10thGrade_English_P+A                                                                        : 0.0000\n",
      "MCAS_10thGrade_English_A #                                                                          : 0.0000\n",
      "% MCAS_10thGrade_English_A                                                                          : 0.0000\n",
      "MCAS_10thGrade_English_P #                                                                          : 0.0000\n",
      "% MCAS_10thGrade_English_P                                                                          : 0.0000\n",
      "MCAS_10thGrade_English_NI #                                                                         : 0.0000\n",
      "% MCAS_10thGrade_English_NI                                                                         : 0.0000\n",
      "MCAS_10thGrade_English_W/F #                                                                        : 0.0000\n",
      "% MCAS_10thGrade_English_W/F                                                                        : 0.0000\n",
      "MCAS_10thGrade_English_Stud. Incl. #                                                                : 0.0000\n",
      "MCAS_10thGrade_English_CPI                                                                          : 0.0000\n",
      "MCAS_10thGrade_English_SGP                                                                          : 0.0000\n",
      "MCAS_10thGrade_English_Incl. in SGP(#)                                                              : 0.0000\n",
      "Accountability and Assistance Level                                                                 : 0.0000\n",
      "School Accountability Percentile (1-99)                                                             : 0.0000\n",
      "Progress and Performance Index (PPI) - All Students                                                 : 0.0000\n",
      "Progress and Performance Index (PPI) - High Needs Students                                          : 0.0000\n",
      "District_Accountability and Assistance Level                                                        : 0.0000\n",
      "District_Progress and Performance Index (PPI) - All Students                                        : 0.0000\n",
      "District_Progress and Performance Index (PPI) - High Needs Students                                 : 0.0000\n",
      "School Type: Charter School                                                                         : 0.0000\n",
      "School Type: Public School                                                                          : 0.0000\n",
      "Function: Principal                                                                                 : 0.0000\n",
      "Grade PK                                                                                            : 0.0000\n",
      "Grade K                                                                                             : 0.0000\n",
      "Grade 1                                                                                             : 0.0000\n",
      "Grade 2                                                                                             : 0.0000\n",
      "Grade 3                                                                                             : 0.0000\n",
      "Grade 4                                                                                             : 0.0000\n",
      "Grade 5                                                                                             : 0.0000\n",
      "Grade 6                                                                                             : 0.0000\n",
      "Grade 7                                                                                             : 0.0000\n",
      "Grade 8                                                                                             : 0.0000\n",
      "Grade 9                                                                                             : 0.0000\n",
      "Grade 10                                                                                            : 0.0000\n",
      "Grade 11                                                                                            : 0.0000\n",
      "Grade 12                                                                                            : 0.0000\n"
     ]
    }
   ],
   "source": [
    "for key, value in {k: v for k, v in sorted(aggregated_feature_importances.items(), key=lambda item: item[1], reverse=True)}.items():\n",
    "    print(\"{0:<100.100}: {1:4.4f}\".format(key, value))"
   ]
  },
  {
   "cell_type": "code",
   "execution_count": 26,
   "metadata": {},
   "outputs": [
    {
     "data": {
      "text/plain": [
       "<matplotlib.axes._subplots.AxesSubplot at 0x219902b5448>"
      ]
     },
     "execution_count": 26,
     "metadata": {},
     "output_type": "execute_result"
    },
    {
     "data": {
      "image/png": "[encoded data removed]",
      "text/plain": [
       "<Figure size 432x288 with 1 Axes>"
      ]
     },
     "metadata": {
      "needs_background": "light"
     },
     "output_type": "display_data"
    }
   ],
   "source": [
    "importances = []\n",
    "for importance in aggregated_feature_importances.values():\n",
    "    if importance != 0:\n",
    "        importances.append(importance)\n",
    "seaborn.distplot(importances, kde=False)"
   ]
  },
  {
   "cell_type": "code",
   "execution_count": null,
   "metadata": {},
   "outputs": [],
   "source": []
  }
 ],
 "metadata": {
  "kernelspec": {
   "display_name": "Python 3",
   "language": "python",
   "name": "python3"
  },
  "language_info": {
   "codemirror_mode": {
    "name": "ipython",
    "version": 3
   },
   "file_extension": ".py",
   "mimetype": "text/x-python",
   "name": "python",
   "nbconvert_exporter": "python",
   "pygments_lexer": "ipython3",
   "version": "3.7.3"
  }
 },
 "nbformat": 4,
 "nbformat_minor": 2
}
